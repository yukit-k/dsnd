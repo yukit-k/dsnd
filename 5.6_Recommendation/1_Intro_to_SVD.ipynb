{
 "cells": [
  {
   "cell_type": "markdown",
   "metadata": {},
   "source": [
    "### Singular Value Decomposition\n",
    "\n",
    "So far in this lesson, you have gained some exposure to Singular Value Decomposition.  In this notebook, you will get some hands on practice with this technique.\n",
    "\n",
    "Let's get started by reading in our libraries and setting up the data we will use throughout this notebook.\n",
    "\n",
    "`1.` Run the cell below to create the **user_movie_subset** dataframe.  This will be the dataframe you will use for the first part of this notebook.\n",
    "\n",
    "**Note: Unstacking the matrix here could take ~10 mins to run.**"
   ]
  },
  {
   "cell_type": "code",
   "execution_count": 1,
   "metadata": {},
   "outputs": [
    {
     "name": "stdout",
     "output_type": "stream",
     "text": [
      "movie_id  73486  75314  68646  99685\n",
      "user_id                             \n",
      "265        10.0   10.0   10.0   10.0\n",
      "1023       10.0    4.0    9.0   10.0\n",
      "1683        8.0    9.0   10.0    5.0\n",
      "6571        9.0    8.0   10.0   10.0\n",
      "11639      10.0    5.0    9.0    9.0\n",
      "13006       6.0    4.0   10.0    6.0\n",
      "14076       9.0    8.0   10.0    9.0\n",
      "14725      10.0    5.0    9.0    8.0\n",
      "23548       7.0    8.0   10.0    8.0\n",
      "24760       9.0    5.0    9.0    7.0\n",
      "28713       9.0    8.0   10.0    8.0\n",
      "30685       9.0   10.0   10.0    9.0\n",
      "34110      10.0    9.0   10.0    8.0\n",
      "34430       5.0    8.0    5.0    8.0\n",
      "35150      10.0    8.0   10.0   10.0\n",
      "43294       9.0    9.0   10.0   10.0\n",
      "46849       9.0    8.0    8.0    8.0\n",
      "50556      10.0    8.0    1.0   10.0\n",
      "51382       5.0    6.0   10.0   10.0\n",
      "51410       8.0    7.0   10.0    7.0\n"
     ]
    }
   ],
   "source": [
    "import numpy as np\n",
    "import pandas as pd\n",
    "import matplotlib.pyplot as plt\n",
    "import svd_tests as t\n",
    "%matplotlib inline\n",
    "\n",
    "# Read in the datasets\n",
    "movies = pd.read_csv('data/movies_clean.csv')\n",
    "reviews = pd.read_csv('data/reviews_clean.csv')\n",
    "\n",
    "del movies['Unnamed: 0']\n",
    "del reviews['Unnamed: 0']\n",
    "\n",
    "# Create user-by-item matrix\n",
    "user_items = reviews[['user_id', 'movie_id', 'rating']]\n",
    "user_by_movie = user_items.groupby(['user_id', 'movie_id'])['rating'].max().unstack()\n",
    "\n",
    "user_movie_subset = user_by_movie[[73486, 75314,  68646, 99685]].dropna(axis=0)\n",
    "print(user_movie_subset)"
   ]
  },
  {
   "cell_type": "markdown",
   "metadata": {},
   "source": [
    "`2.` Now that you have the **user_movie_subset** matrix, use this matrix to correctly match each key to the correct value in the dictionary below.  Use the cells below the dictionary as necessary."
   ]
  },
  {
   "cell_type": "code",
   "execution_count": 8,
   "metadata": {},
   "outputs": [
    {
     "name": "stdout",
     "output_type": "stream",
     "text": [
      "That's right!  There are 20 users in the dataset, which is given by the number of rows. There are 4 movies in the dataset given by the number of columns.  You can find the movies or users with the highest average ratings by taking the mean of each row or column.  Using the movies table, you can find the movie names associated with each id.  This shows the top rated movie is The Godfather!\n"
     ]
    }
   ],
   "source": [
    "# match each letter to the best statement in the dictionary below - each will be used at most once\n",
    "a = 20\n",
    "b = 68646\n",
    "c = 'The Godfather'\n",
    "d = 'Goodfellas'\n",
    "e = 265\n",
    "f = 30685\n",
    "g = 4\n",
    "\n",
    "sol_1_dict = {\n",
    "    'the number of users in the user_movie_subset': a,\n",
    "    'the number of movies in the user_movie_subset': g,\n",
    "    'the user_id with the highest average ratings given': e,\n",
    "    'the movie_id with the highest average ratings received': b,\n",
    "    'the name of the movie that received the highest average rating': c\n",
    "}\n",
    "\n",
    "\n",
    "#test dictionary here\n",
    "t.test1(sol_1_dict)"
   ]
  },
  {
   "cell_type": "code",
   "execution_count": 10,
   "metadata": {},
   "outputs": [
    {
     "name": "stdout",
     "output_type": "stream",
     "text": [
      "(20, 4)\n",
      "user_id\n",
      "265      10.00\n",
      "1023      8.25\n",
      "1683      8.00\n",
      "6571      9.25\n",
      "11639     8.25\n",
      "13006     6.50\n",
      "14076     9.00\n",
      "14725     8.00\n",
      "23548     8.25\n",
      "24760     7.50\n",
      "28713     8.75\n",
      "30685     9.50\n",
      "34110     9.25\n",
      "34430     6.50\n",
      "35150     9.50\n",
      "43294     9.50\n",
      "46849     8.25\n",
      "50556     7.25\n",
      "51382     7.75\n",
      "51410     8.00\n",
      "dtype: float64\n",
      "movie_id\n",
      "73486    8.60\n",
      "75314    7.35\n",
      "68646    9.00\n",
      "99685    8.50\n",
      "dtype: float64\n"
     ]
    },
    {
     "data": {
      "text/html": [
       "<div>\n",
       "<style scoped>\n",
       "    .dataframe tbody tr th:only-of-type {\n",
       "        vertical-align: middle;\n",
       "    }\n",
       "\n",
       "    .dataframe tbody tr th {\n",
       "        vertical-align: top;\n",
       "    }\n",
       "\n",
       "    .dataframe thead th {\n",
       "        text-align: right;\n",
       "    }\n",
       "</style>\n",
       "<table border=\"1\" class=\"dataframe\">\n",
       "  <thead>\n",
       "    <tr style=\"text-align: right;\">\n",
       "      <th>movie_id</th>\n",
       "      <th>73486</th>\n",
       "      <th>75314</th>\n",
       "      <th>68646</th>\n",
       "      <th>99685</th>\n",
       "    </tr>\n",
       "    <tr>\n",
       "      <th>user_id</th>\n",
       "      <th></th>\n",
       "      <th></th>\n",
       "      <th></th>\n",
       "      <th></th>\n",
       "    </tr>\n",
       "  </thead>\n",
       "  <tbody>\n",
       "    <tr>\n",
       "      <th>265</th>\n",
       "      <td>10.0</td>\n",
       "      <td>10.0</td>\n",
       "      <td>10.0</td>\n",
       "      <td>10.0</td>\n",
       "    </tr>\n",
       "    <tr>\n",
       "      <th>1023</th>\n",
       "      <td>10.0</td>\n",
       "      <td>4.0</td>\n",
       "      <td>9.0</td>\n",
       "      <td>10.0</td>\n",
       "    </tr>\n",
       "    <tr>\n",
       "      <th>1683</th>\n",
       "      <td>8.0</td>\n",
       "      <td>9.0</td>\n",
       "      <td>10.0</td>\n",
       "      <td>5.0</td>\n",
       "    </tr>\n",
       "    <tr>\n",
       "      <th>6571</th>\n",
       "      <td>9.0</td>\n",
       "      <td>8.0</td>\n",
       "      <td>10.0</td>\n",
       "      <td>10.0</td>\n",
       "    </tr>\n",
       "    <tr>\n",
       "      <th>11639</th>\n",
       "      <td>10.0</td>\n",
       "      <td>5.0</td>\n",
       "      <td>9.0</td>\n",
       "      <td>9.0</td>\n",
       "    </tr>\n",
       "    <tr>\n",
       "      <th>13006</th>\n",
       "      <td>6.0</td>\n",
       "      <td>4.0</td>\n",
       "      <td>10.0</td>\n",
       "      <td>6.0</td>\n",
       "    </tr>\n",
       "    <tr>\n",
       "      <th>14076</th>\n",
       "      <td>9.0</td>\n",
       "      <td>8.0</td>\n",
       "      <td>10.0</td>\n",
       "      <td>9.0</td>\n",
       "    </tr>\n",
       "    <tr>\n",
       "      <th>14725</th>\n",
       "      <td>10.0</td>\n",
       "      <td>5.0</td>\n",
       "      <td>9.0</td>\n",
       "      <td>8.0</td>\n",
       "    </tr>\n",
       "    <tr>\n",
       "      <th>23548</th>\n",
       "      <td>7.0</td>\n",
       "      <td>8.0</td>\n",
       "      <td>10.0</td>\n",
       "      <td>8.0</td>\n",
       "    </tr>\n",
       "    <tr>\n",
       "      <th>24760</th>\n",
       "      <td>9.0</td>\n",
       "      <td>5.0</td>\n",
       "      <td>9.0</td>\n",
       "      <td>7.0</td>\n",
       "    </tr>\n",
       "    <tr>\n",
       "      <th>28713</th>\n",
       "      <td>9.0</td>\n",
       "      <td>8.0</td>\n",
       "      <td>10.0</td>\n",
       "      <td>8.0</td>\n",
       "    </tr>\n",
       "    <tr>\n",
       "      <th>30685</th>\n",
       "      <td>9.0</td>\n",
       "      <td>10.0</td>\n",
       "      <td>10.0</td>\n",
       "      <td>9.0</td>\n",
       "    </tr>\n",
       "    <tr>\n",
       "      <th>34110</th>\n",
       "      <td>10.0</td>\n",
       "      <td>9.0</td>\n",
       "      <td>10.0</td>\n",
       "      <td>8.0</td>\n",
       "    </tr>\n",
       "    <tr>\n",
       "      <th>34430</th>\n",
       "      <td>5.0</td>\n",
       "      <td>8.0</td>\n",
       "      <td>5.0</td>\n",
       "      <td>8.0</td>\n",
       "    </tr>\n",
       "    <tr>\n",
       "      <th>35150</th>\n",
       "      <td>10.0</td>\n",
       "      <td>8.0</td>\n",
       "      <td>10.0</td>\n",
       "      <td>10.0</td>\n",
       "    </tr>\n",
       "    <tr>\n",
       "      <th>43294</th>\n",
       "      <td>9.0</td>\n",
       "      <td>9.0</td>\n",
       "      <td>10.0</td>\n",
       "      <td>10.0</td>\n",
       "    </tr>\n",
       "    <tr>\n",
       "      <th>46849</th>\n",
       "      <td>9.0</td>\n",
       "      <td>8.0</td>\n",
       "      <td>8.0</td>\n",
       "      <td>8.0</td>\n",
       "    </tr>\n",
       "    <tr>\n",
       "      <th>50556</th>\n",
       "      <td>10.0</td>\n",
       "      <td>8.0</td>\n",
       "      <td>1.0</td>\n",
       "      <td>10.0</td>\n",
       "    </tr>\n",
       "    <tr>\n",
       "      <th>51382</th>\n",
       "      <td>5.0</td>\n",
       "      <td>6.0</td>\n",
       "      <td>10.0</td>\n",
       "      <td>10.0</td>\n",
       "    </tr>\n",
       "    <tr>\n",
       "      <th>51410</th>\n",
       "      <td>8.0</td>\n",
       "      <td>7.0</td>\n",
       "      <td>10.0</td>\n",
       "      <td>7.0</td>\n",
       "    </tr>\n",
       "  </tbody>\n",
       "</table>\n",
       "</div>"
      ],
      "text/plain": [
       "movie_id  73486  75314  68646  99685\n",
       "user_id                             \n",
       "265        10.0   10.0   10.0   10.0\n",
       "1023       10.0    4.0    9.0   10.0\n",
       "1683        8.0    9.0   10.0    5.0\n",
       "6571        9.0    8.0   10.0   10.0\n",
       "11639      10.0    5.0    9.0    9.0\n",
       "13006       6.0    4.0   10.0    6.0\n",
       "14076       9.0    8.0   10.0    9.0\n",
       "14725      10.0    5.0    9.0    8.0\n",
       "23548       7.0    8.0   10.0    8.0\n",
       "24760       9.0    5.0    9.0    7.0\n",
       "28713       9.0    8.0   10.0    8.0\n",
       "30685       9.0   10.0   10.0    9.0\n",
       "34110      10.0    9.0   10.0    8.0\n",
       "34430       5.0    8.0    5.0    8.0\n",
       "35150      10.0    8.0   10.0   10.0\n",
       "43294       9.0    9.0   10.0   10.0\n",
       "46849       9.0    8.0    8.0    8.0\n",
       "50556      10.0    8.0    1.0   10.0\n",
       "51382       5.0    6.0   10.0   10.0\n",
       "51410       8.0    7.0   10.0    7.0"
      ]
     },
     "execution_count": 10,
     "metadata": {},
     "output_type": "execute_result"
    }
   ],
   "source": [
    "# Cell for work\n",
    "print(user_movie_subset.shape)\n",
    "# user with the highest average rating\n",
    "print(user_movie_subset.mean(axis=1))\n",
    "\n",
    "# movie with highest average rating\n",
    "print(user_movie_subset.mean(axis=0))\n",
    "\n",
    "# list of movie names\n",
    "movies.loc[movies['movie_id'].isin(['73486', '75314',  '68646', '99685'])]\n",
    "\n",
    "# users by movies\n",
    "user_movie_subset"
   ]
  },
  {
   "cell_type": "markdown",
   "metadata": {},
   "source": [
    "Now that you have a little more context about the matrix we will be performing Singular Value Decomposition on, we're going to do just that.  To get started, let's remind ourselves about the dimensions of each of the matrices we are going to get back.   Essentially, we are going to split the **user_movie_subset** matrix into three matrices:\n",
    "\n",
    "$$ U \\Sigma V^T $$\n",
    "\n",
    "\n",
    "`3.` Given what you learned in the previous parts of this lesson, provide the dimensions for each of the matrices specified above using the dictionary below."
   ]
  },
  {
   "cell_type": "code",
   "execution_count": 9,
   "metadata": {},
   "outputs": [
    {
     "name": "stdout",
     "output_type": "stream",
     "text": [
      "That's right!  We will now put this to use, so you can see how the dot product of these matrices come together to create our user item matrix.  The number of latent features will control the sigma matrix as well, and this will a square matrix that will at most be the minimum of the number of users and number of movies (in our case the minimum is the 4 movies).\n"
     ]
    }
   ],
   "source": [
    "# match each letter in the dictionary below - a letter may appear more than once.\n",
    "a = 'a number that you can choose as the number of latent features to keep'\n",
    "b = 'the number of users'\n",
    "c = 'the number of movies'\n",
    "d = 'the sum of the number of users and movies'\n",
    "e = 'the product of the number of users and movies'\n",
    "\n",
    "sol_2_dict = {\n",
    "    'the number of rows in the U matrix': b, \n",
    "    'the number of columns in the U matrix': a, \n",
    "    'the number of rows in the V transpose matrix': a, \n",
    "    'the number of columns in the V transpose matrix': c\n",
    "}\n",
    "\n",
    "#test dictionary here\n",
    "t.test2(sol_2_dict)"
   ]
  },
  {
   "cell_type": "markdown",
   "metadata": {},
   "source": [
    "Now let's verify the above dimensions by performing SVD on our user-movie matrix.\n",
    "\n",
    "`4.` Below you can find the code used to perform SVD in numpy.  You can see more about this functionality in the [documentation here](https://docs.scipy.org/doc/numpy-1.13.0/reference/generated/numpy.linalg.svd.html).  What do you notice about the shapes of your matrices?  If you try to take the dot product of the three objects you get back, can you directly do this to get back the user-movie matrix?"
   ]
  },
  {
   "cell_type": "code",
   "execution_count": 11,
   "metadata": {},
   "outputs": [
    {
     "data": {
      "text/plain": [
       "((4,), (20, 20), (4, 4))"
      ]
     },
     "execution_count": 11,
     "metadata": {},
     "output_type": "execute_result"
    }
   ],
   "source": [
    "u, s, vt = np.linalg.svd(user_movie_subset) # perform svd here on user_movie_subset\n",
    "s.shape, u.shape, vt.shape"
   ]
  },
  {
   "cell_type": "code",
   "execution_count": 12,
   "metadata": {},
   "outputs": [
    {
     "name": "stdout",
     "output_type": "stream",
     "text": [
      "Looking at the dimensions of the three returned objects, we can see the following:\n",
      "\n",
      " 1. The u matrix is a square matrix with the number of rows and columns equaling the number of users. \n",
      "\n",
      " 2. The v transpose matrix is also a square matrix with the number of rows and columns equaling the number of items.\n",
      "\n",
      " 3. The sigma matrix is actually returned as just an array with 4 values, but should be a diagonal matrix.  Numpy has a diag method to help with this.  \n",
      "\n",
      " In order to set up the matrices in a way that they can be multiplied together, we have a few steps to perform: \n",
      "\n",
      " 1. Turn sigma into a square matrix with the number of latent features we would like to keep. \n",
      "\n",
      " 2. Change the columns of u and the rows of v transpose to match this number of dimensions. \n",
      "\n",
      " If we would like to exactly re-create the user-movie matrix, we could choose to keep all of the latent features.\n"
     ]
    }
   ],
   "source": [
    "# Run this cell for our thoughts on the questions posted above\n",
    "t.question4thoughts()"
   ]
  },
  {
   "cell_type": "code",
   "execution_count": 16,
   "metadata": {},
   "outputs": [
    {
     "data": {
      "text/plain": [
       "array([[ -2.64248460e-01,   9.34625393e-02,   1.53328703e-01,\n",
       "         -1.48458750e-02,  -1.37015086e-01,   2.97702388e-02,\n",
       "         -2.04625105e-01,  -1.65164464e-01,  -1.46266965e-01,\n",
       "         -1.50060083e-01,  -2.32774482e-01,  -2.99166205e-01,\n",
       "         -3.23298791e-01,  -2.14498810e-01,  -2.19729486e-01,\n",
       "         -2.23746277e-01,  -2.94670228e-01,  -4.98260339e-01,\n",
       "          9.10804080e-02,  -1.70399551e-01],\n",
       "       [ -2.22213169e-01,  -1.01256723e-02,  -5.27224553e-01,\n",
       "          1.01826396e-01,  -4.20155461e-01,  -2.52264056e-01,\n",
       "         -4.90260286e-02,  -3.95178236e-01,   8.89422931e-02,\n",
       "         -3.13705463e-01,  -2.40488036e-02,   1.74802145e-01,\n",
       "          3.13697350e-02,   3.07475271e-01,  -1.30498802e-01,\n",
       "          3.79108332e-02,   1.81679490e-02,   5.94765848e-02,\n",
       "         -7.18492342e-02,  -5.44901171e-02],\n",
       "       [ -2.11394001e-01,  -1.77735255e-01,   3.63746982e-01,\n",
       "         -4.11515956e-01,   2.37290568e-02,  -2.61568300e-01,\n",
       "         -8.28102758e-02,  -5.14823364e-02,  -1.60718100e-01,\n",
       "         -1.28041945e-01,  -1.58021669e-01,  -1.08270677e-01,\n",
       "         -1.69403654e-01,   1.71588044e-01,  -6.25066690e-03,\n",
       "         -2.03290832e-02,  -2.40206388e-02,   5.96753969e-01,\n",
       "          1.24686558e-02,  -2.21851077e-01],\n",
       "       [ -2.45819079e-01,   2.25792773e-03,  -9.93994325e-03,\n",
       "          1.49568285e-01,  -2.80696477e-02,  -1.69441428e-01,\n",
       "         -8.94508214e-02,   1.05250660e-01,  -2.01988378e-01,\n",
       "          1.15642036e-01,   4.38694864e-02,  -3.38684551e-02,\n",
       "          1.94589602e-01,  -3.38717289e-01,  -9.98421968e-02,\n",
       "         -1.94979946e-01,   8.75210681e-02,   9.65899207e-02,\n",
       "         -7.70069225e-01,   2.64696786e-02],\n",
       "       [ -2.21341465e-01,  -1.51831187e-02,  -3.74764818e-01,\n",
       "         -5.16796692e-02,   8.70274767e-01,  -6.61324930e-02,\n",
       "         -4.45961138e-02,  -1.27455237e-01,  -1.78795888e-03,\n",
       "         -1.04916161e-01,  -4.23261177e-02,  -1.93108974e-05,\n",
       "         -4.03067956e-02,   4.87760226e-02,  -6.71351894e-02,\n",
       "         -2.45777086e-02,  -3.83157886e-02,  -4.90887086e-02,\n",
       "         -1.03665955e-02,  -4.20754435e-02],\n",
       "       [ -1.75406944e-01,  -3.55087031e-01,  -1.15250044e-01,\n",
       "          7.08184291e-02,  -5.49470116e-02,   8.56630776e-01,\n",
       "         -4.93874077e-02,  -5.93252769e-02,  -7.06823366e-02,\n",
       "         -7.21618739e-02,  -5.37656729e-02,  -2.16513951e-02,\n",
       "         -3.14393348e-02,   5.03314155e-02,  -3.65508107e-02,\n",
       "         -3.11411362e-02,   1.40649337e-03,   2.11723938e-01,\n",
       "         -1.06578482e-01,  -8.04702763e-02],\n",
       "       [ -2.39128787e-01,  -3.45501880e-02,   2.98482414e-02,\n",
       "          1.70781825e-02,  -2.04028232e-02,  -1.73391464e-02,\n",
       "          9.57277462e-01,  -2.45304676e-02,  -4.32226345e-02,\n",
       "         -2.68443380e-02,  -4.68501824e-02,  -5.88850395e-02,\n",
       "         -5.67452071e-02,  -4.01464036e-02,  -4.04086676e-02,\n",
       "         -4.66761444e-02,  -4.70707092e-02,  -4.14010382e-02,\n",
       "         -1.51772964e-02,  -4.10828021e-02],\n",
       "       [ -2.14651173e-01,  -5.19912345e-02,  -3.34976634e-01,\n",
       "         -1.84169771e-01,  -1.28764252e-01,  -4.70675733e-02,\n",
       "         -3.87390619e-02,   8.56277638e-01,   1.81121776e-02,\n",
       "         -1.22775797e-01,  -5.36971713e-02,  -3.15495863e-03,\n",
       "         -7.18097941e-02,   8.61997213e-02,  -5.96856269e-02,\n",
       "         -5.98890082e-03,  -5.51858933e-02,  -6.63848762e-02,\n",
       "          8.42536421e-02,  -5.05426579e-02],\n",
       "       [ -2.18854086e-01,  -1.26764850e-01,   1.93785332e-01,\n",
       "          1.29352548e-01,   3.12133055e-02,  -3.62487769e-02,\n",
       "         -4.38825741e-02,   3.11583733e-02,   9.18671532e-01,\n",
       "          1.24079604e-02,  -4.39375062e-02,  -7.58250920e-02,\n",
       "         -4.12132844e-02,  -7.62863201e-02,  -2.51321612e-02,\n",
       "         -5.97989009e-02,  -2.69642625e-02,   5.12474354e-02,\n",
       "         -8.66670472e-02,  -4.67166601e-02],\n",
       "       [ -2.01168676e-01,  -1.16502623e-01,  -2.33113996e-01,\n",
       "         -1.94277640e-01,  -1.02475697e-01,  -4.69899287e-02,\n",
       "         -3.63905539e-02,  -1.24011503e-01,   9.00932917e-03,\n",
       "          8.87920535e-01,  -5.79263600e-02,  -1.31928088e-02,\n",
       "         -7.97953320e-02,   8.68416124e-02,  -4.83225924e-02,\n",
       "         -3.25587523e-03,  -5.35677224e-02,  -2.87087231e-02,\n",
       "          9.58188854e-02,  -5.75931941e-02],\n",
       "       [ -2.32438494e-01,  -7.13583037e-02,   6.96364260e-02,\n",
       "         -1.15411920e-01,  -1.94418423e-02,   1.72577333e-03,\n",
       "         -3.68654861e-02,  -4.07975922e-02,  -2.33224980e-02,\n",
       "         -4.47039732e-02,   9.41778764e-01,  -6.20206872e-02,\n",
       "         -8.82482056e-02,  -2.72270491e-03,  -3.29591051e-02,\n",
       "         -2.80873366e-02,  -6.39408140e-02,  -5.86972058e-02,\n",
       "          7.94429411e-02,  -4.95500164e-02],\n",
       "       [ -2.50765963e-01,   2.89511506e-02,   2.55191340e-01,\n",
       "         -2.49537435e-02,   3.63021032e-02,   4.57923593e-02,\n",
       "         -3.58673413e-02,   2.24332243e-02,  -4.31470561e-02,\n",
       "          1.18589274e-02,  -4.97362202e-02,   9.07441363e-01,\n",
       "         -8.13764501e-02,  -8.44224765e-02,  -2.52930443e-02,\n",
       "         -5.03441101e-02,  -6.88820541e-02,  -1.11449297e-01,\n",
       "          4.78711616e-02,  -3.19648693e-02],\n",
       "       [ -2.45049287e-01,  -1.19043614e-02,   1.20233523e-01,\n",
       "         -2.58810116e-01,  -1.64169529e-02,   5.22788013e-02,\n",
       "         -2.99293436e-02,  -5.32937291e-02,   5.71827604e-03,\n",
       "         -5.39083074e-02,  -6.68061199e-02,  -7.19552835e-02,\n",
       "          8.75918712e-01,   1.19210662e-02,  -2.93147654e-02,\n",
       "         -1.40655373e-02,  -9.33347621e-02,  -1.48693656e-01,\n",
       "          1.94022164e-01,  -4.64077282e-02],\n",
       "       [ -1.69650872e-01,   2.52407625e-01,   2.95314446e-01,\n",
       "          3.26999480e-01,   8.71812210e-02,   6.03598568e-02,\n",
       "         -2.63962854e-02,   1.20608095e-01,  -7.66091456e-02,\n",
       "          1.12215102e-01,   7.03058842e-03,  -8.23638463e-02,\n",
       "          2.08666750e-02,   7.78782611e-01,  -1.80032922e-02,\n",
       "         -8.78069396e-02,  -1.73568155e-02,  -1.27746610e-01,\n",
       "         -1.71135066e-01,   2.66213757e-02],\n",
       "       [ -2.52611283e-01,   2.99612008e-02,  -7.20143962e-02,\n",
       "          2.71860510e-02,  -4.66913780e-02,  -1.74167910e-02,\n",
       "         -4.50710460e-02,  -4.42413257e-02,  -3.41197861e-02,\n",
       "         -3.75406696e-02,  -4.26209937e-02,  -4.88471894e-02,\n",
       "         -4.87596692e-02,  -4.07882947e-02,   9.48228298e-01,\n",
       "         -4.94091700e-02,  -4.86888802e-02,  -7.90771913e-02,\n",
       "         -2.67425398e-02,  -3.40322659e-02],\n",
       "       [ -2.51637668e-01,   3.40085970e-02,   1.02731606e-01,\n",
       "          1.28552322e-01,   6.98865907e-03,  -4.83831323e-03,\n",
       "         -4.51519916e-02,   1.52185030e-02,  -6.30849818e-02,\n",
       "          1.03669299e-02,  -3.69221477e-02,  -7.25861905e-02,\n",
       "         -3.75578301e-02,  -9.97081388e-02,  -4.03004185e-02,\n",
       "          9.32901065e-01,  -4.11062769e-02,  -5.91289998e-02,\n",
       "         -7.82733049e-02,  -2.80566214e-02],\n",
       "       [ -2.18190972e-01,   1.02473305e-01,   6.05885092e-02,\n",
       "         -1.34258934e-01,  -1.73167351e-02,   5.55590469e-02,\n",
       "         -2.70641354e-02,  -3.38000899e-02,   1.76761873e-03,\n",
       "         -2.76258902e-02,  -4.35474901e-02,  -5.91144270e-02,\n",
       "         -8.22301904e-02,  -3.12696865e-02,  -3.32383350e-02,\n",
       "         -2.66059264e-02,   9.25111544e-01,  -1.74272680e-01,\n",
       "          1.12099729e-01,  -2.13481446e-02],\n",
       "       [ -1.88497434e-01,   8.12203438e-01,  -1.12730022e-01,\n",
       "         -5.76255121e-02,  -3.71283959e-02,   2.24832940e-01,\n",
       "         -9.64967864e-04,  -1.27525651e-02,   7.87857394e-02,\n",
       "          3.93107039e-02,   2.34108629e-02,  -3.57690184e-02,\n",
       "         -2.16786006e-02,  -1.69249712e-01,  -5.30282369e-02,\n",
       "         -4.27428239e-02,  -9.79532682e-02,   4.00833173e-01,\n",
       "          1.20213005e-01,   9.28761572e-02],\n",
       "       [ -2.07013086e-01,  -1.72056503e-01,   1.30147697e-02,\n",
       "          6.81129146e-01,   2.32415649e-02,  -1.75484672e-01,\n",
       "         -6.94689629e-02,   8.86848965e-02,  -1.79210289e-01,\n",
       "          6.65358993e-02,  -4.02563130e-03,  -4.96846040e-02,\n",
       "          9.34588769e-02,  -1.80421260e-01,  -4.73199657e-02,\n",
       "         -1.25020115e-01,   6.55638434e-02,   2.65832670e-01,\n",
       "          4.94934031e-01,  -3.60668079e-02],\n",
       "       [ -2.13137409e-01,  -1.67620362e-01,   5.88275141e-02,\n",
       "         -1.04503825e-01,  -2.15057507e-02,  -2.97623349e-02,\n",
       "         -3.79445765e-02,  -4.45685800e-02,  -3.24631357e-02,\n",
       "         -5.33592743e-02,  -6.10074058e-02,  -5.52217387e-02,\n",
       "         -8.39181220e-02,   2.00572226e-02,  -2.91538822e-02,\n",
       "         -2.35203282e-02,  -5.14169706e-02,   1.40030764e-02,\n",
       "          5.94839554e-02,   9.38840481e-01]])"
      ]
     },
     "execution_count": 16,
     "metadata": {},
     "output_type": "execute_result"
    }
   ],
   "source": [
    "u"
   ]
  },
  {
   "cell_type": "code",
   "execution_count": 15,
   "metadata": {},
   "outputs": [
    {
     "data": {
      "text/plain": [
       "array([[-0.51271339, -0.43921944, -0.53774114, -0.50502053],\n",
       "       [ 0.26800844,  0.30716398, -0.84084539,  0.35609099],\n",
       "       [-0.46073846,  0.83628794,  0.03357841, -0.29532193],\n",
       "       [-0.67306502, -0.1155814 ,  0.05182642,  0.72865522]])"
      ]
     },
     "execution_count": 15,
     "metadata": {},
     "output_type": "execute_result"
    }
   ],
   "source": [
    "vt"
   ]
  },
  {
   "cell_type": "markdown",
   "metadata": {},
   "source": [
    "`5.` Use the thoughts from the above question to create u, s, and vt with four latent features.  When you have all three matrices created correctly, run the test below to show that the dot product of the three matrices creates the original user-movie matrix.  The matrices should have the following dimensions:\n",
    "\n",
    "$$ U_{n x k} $$\n",
    "\n",
    "$$\\Sigma_{k x k} $$\n",
    "\n",
    "$$V^T_{k x m} $$\n",
    "\n",
    "where:\n",
    "\n",
    "1. n is the number of users\n",
    "2. k is the number of latent features to keep (4 for this case)\n",
    "3. m is the number of movies\n"
   ]
  },
  {
   "cell_type": "code",
   "execution_count": 19,
   "metadata": {},
   "outputs": [],
   "source": [
    "# Change the dimensions of u, s, and vt as necessary to use four latent features\n",
    "# update the shape of u and store in u_new\n",
    "u_new = u[:, :len(s)]\n",
    "\n",
    "# update the shape of s and store in s_new\n",
    "s_new = np.diag(s)\n",
    "\n",
    "# Because we are using 4 latent features and there are only 4 movies, \n",
    "# vt and vt_new are the same\n",
    "vt_new = vt"
   ]
  },
  {
   "cell_type": "code",
   "execution_count": 21,
   "metadata": {},
   "outputs": [
    {
     "data": {
      "text/plain": [
       "array([[-0.26424846,  0.09346254,  0.1533287 , -0.01484588],\n",
       "       [-0.22221317, -0.01012567, -0.52722455,  0.1018264 ],\n",
       "       [-0.211394  , -0.17773525,  0.36374698, -0.41151596],\n",
       "       [-0.24581908,  0.00225793, -0.00993994,  0.14956828],\n",
       "       [-0.22134147, -0.01518312, -0.37476482, -0.05167967],\n",
       "       [-0.17540694, -0.35508703, -0.11525004,  0.07081843],\n",
       "       [-0.23912879, -0.03455019,  0.02984824,  0.01707818],\n",
       "       [-0.21465117, -0.05199123, -0.33497663, -0.18416977],\n",
       "       [-0.21885409, -0.12676485,  0.19378533,  0.12935255],\n",
       "       [-0.20116868, -0.11650262, -0.233114  , -0.19427764],\n",
       "       [-0.23243849, -0.0713583 ,  0.06963643, -0.11541192],\n",
       "       [-0.25076596,  0.02895115,  0.25519134, -0.02495374],\n",
       "       [-0.24504929, -0.01190436,  0.12023352, -0.25881012],\n",
       "       [-0.16965087,  0.25240762,  0.29531445,  0.32699948],\n",
       "       [-0.25261128,  0.0299612 , -0.0720144 ,  0.02718605],\n",
       "       [-0.25163767,  0.0340086 ,  0.10273161,  0.12855232],\n",
       "       [-0.21819097,  0.1024733 ,  0.06058851, -0.13425893],\n",
       "       [-0.18849743,  0.81220344, -0.11273002, -0.05762551],\n",
       "       [-0.20701309, -0.1720565 ,  0.01301477,  0.68112915],\n",
       "       [-0.21313741, -0.16762036,  0.05882751, -0.10450383]])"
      ]
     },
     "execution_count": 21,
     "metadata": {},
     "output_type": "execute_result"
    }
   ],
   "source": [
    "u_new"
   ]
  },
  {
   "cell_type": "code",
   "execution_count": 20,
   "metadata": {},
   "outputs": [
    {
     "name": "stdout",
     "output_type": "stream",
     "text": [
      "That's right! The dimensions of u should be 20 x 4, and both v transpose and sigma should be 4 x 4.  The dot product of the three matrices how equals the original user-movie matrix!\n"
     ]
    }
   ],
   "source": [
    "# Check your matrices against the solution\n",
    "assert u_new.shape == (20, 4), \"Oops!  The shape of the u matrix doesn't look right. It should be 20 by 4.\"\n",
    "assert s_new.shape == (4, 4), \"Oops!  The shape of the sigma matrix doesn't look right.  It should be 4 x 4.\"\n",
    "assert vt_new.shape == (4, 4), \"Oops! The shape of the v transpose matrix doesn't look right.  It should be 4 x 4.\"\n",
    "assert np.allclose(np.dot(np.dot(u_new, s_new), vt_new), user_movie_subset), \"Oops!  Something went wrong with the dot product.  Your result didn't reproduce the original movie_user matrix.\"\n",
    "print(\"That's right! The dimensions of u should be 20 x 4, and both v transpose and sigma should be 4 x 4.  The dot product of the three matrices how equals the original user-movie matrix!\")"
   ]
  },
  {
   "cell_type": "markdown",
   "metadata": {},
   "source": [
    "It turns out that the sigma matrix can actually tell us how much of the original variability in the user-movie matrix is captured by each latent feature.  The total amount of variability to be explained is the sum of the squared diagonal elements.  The amount of variability explained by the first component is the square of the first value in the diagonal.  The amount of variability explained by the second component is the square of the second value in the diagonal.   \n",
    "\n",
    "`6.` Using the above information, can you determine the amount of variability in the original user-movie matrix that can be explained by only using the first two components? Use the cell below for your work, and then test your answer against the solution with the following cell."
   ]
  },
  {
   "cell_type": "code",
   "execution_count": 24,
   "metadata": {},
   "outputs": [
    {
     "name": "stdout",
     "output_type": "stream",
     "text": [
      "The total variance in the original matrix is 5877.0.\n",
      "Ther percentage of variability captured by the first two components is 98.54793320603328%.\n"
     ]
    }
   ],
   "source": [
    "total_var = np.sum(s**2) # Total variability here\n",
    "var_exp_comp1_and_comp2 = s[0]**2 + s[1]**2 # Variability Explained by the first two components here\n",
    "perc_exp = var_exp_comp1_and_comp2 / total_var * 100# Percent of variability explained by the first two components here\n",
    "\n",
    "# Run the below to print your results\n",
    "print(\"The total variance in the original matrix is {}.\".format(total_var))\n",
    "print(\"Ther percentage of variability captured by the first two components is {}%.\".format(perc_exp))"
   ]
  },
  {
   "cell_type": "code",
   "execution_count": 25,
   "metadata": {},
   "outputs": [
    {
     "name": "stdout",
     "output_type": "stream",
     "text": [
      "Yup!  That all looks good!\n"
     ]
    }
   ],
   "source": [
    "assert np.round(perc_exp, 2) == 98.55, \"Oops!  That doesn't look quite right.  You should have total variability as the sum of all the squared elements in the sigma matrix.  Then just the sum of the squared first two elements is the amount explained by the first two latent features.  Try again.\"\n",
    "print(\"Yup!  That all looks good!\")"
   ]
  },
  {
   "cell_type": "markdown",
   "metadata": {},
   "source": [
    "`7.` Similar to the previous question, change the shapes of your u, sigma, and v transpose matrices.  However, this time consider only using the first 2 components to reproduce the user-movie matrix instead of all 4. After you have your matrices set up, check your matrices against the solution by running the tests.  The matrices should have the following dimensions:\n",
    "\n",
    "$$ U_{n x k} $$\n",
    "\n",
    "$$\\Sigma_{k x k} $$\n",
    "\n",
    "$$V^T_{k x m} $$\n",
    "\n",
    "where:\n",
    "\n",
    "1. n is the number of users\n",
    "2. k is the number of latent features to keep (2 for this case)\n",
    "3. m is the number of movies"
   ]
  },
  {
   "cell_type": "code",
   "execution_count": 28,
   "metadata": {},
   "outputs": [],
   "source": [
    "# Change the dimensions of u, s, and vt as necessary to use four latent features\n",
    "# update the shape of u and store in u_new\n",
    "k = 2\n",
    "u_2 = u[:, :k]\n",
    "\n",
    "# update the shape of s and store in s_new\n",
    "s_2 = np.diag(s[:k])\n",
    "\n",
    "# Because we are using 4 latent features and there are only 4 movies, \n",
    "# vt and vt_new are the same\n",
    "vt_2 = vt[:k, :]"
   ]
  },
  {
   "cell_type": "code",
   "execution_count": 29,
   "metadata": {},
   "outputs": [
    {
     "name": "stdout",
     "output_type": "stream",
     "text": [
      "That's right! The dimensions of u should be 20 x 2, sigma should be 2 x 2, and v transpose should be 2 x 4. \n",
      "\n",
      " The question is now that we don't have all of the latent features, how well can we really re-create the original user-movie matrix?\n"
     ]
    }
   ],
   "source": [
    "# Check that your matrices are the correct shapes\n",
    "assert u_2.shape == (20, 2), \"Oops!  The shape of the u matrix doesn't look right. It should be 20 by 2.\"\n",
    "assert s_2.shape == (2, 2), \"Oops!  The shape of the sigma matrix doesn't look right.  It should be 2 x 2.\"\n",
    "assert vt_2.shape == (2, 4), \"Oops! The shape of the v transpose matrix doesn't look right.  It should be 2 x 4.\"\n",
    "print(\"That's right! The dimensions of u should be 20 x 2, sigma should be 2 x 2, and v transpose should be 2 x 4. \\n\\n The question is now that we don't have all of the latent features, how well can we really re-create the original user-movie matrix?\")"
   ]
  },
  {
   "cell_type": "markdown",
   "metadata": {},
   "source": [
    "`8.` When using all 4 latent features, we saw that we could exactly reproduce the user-movie matrix.  Now that we only have 2 latent features, we might measure how well we are able to reproduce the original matrix by looking at the sum of squared errors from each rating produced by taking the dot product as compared to the actual rating.  Find the sum of squared error based on only the two latent features, and use the following cell to test against the solution. "
   ]
  },
  {
   "cell_type": "code",
   "execution_count": 34,
   "metadata": {},
   "outputs": [
    {
     "name": "stdout",
     "output_type": "stream",
     "text": [
      "[[ 10.46939358   9.03881747   9.96601728  10.39558706]\n",
      " [  8.57394283   7.33732799   9.10237708   8.43627528]\n",
      " [  7.72063939   6.48055583  10.02663724   7.44642893]\n",
      " [  9.51965759   8.1567744    9.95984596   9.37883457]\n",
      " [  8.52709287   7.29339826   9.10813317   8.38562191]\n",
      " [  5.86801737   4.76039943  10.00853852   5.46357733]\n",
      " [  9.16529142   7.82558125   9.98769311   8.99698805]\n",
      " [  8.1727267    6.96220511   9.13598032   8.00377539]\n",
      " [  8.14151816   6.87935565   9.91483343   7.90640917]\n",
      " [  7.48365698   6.32349573   9.11347406   7.26756269]\n",
      " [  8.81092524   7.49438809  10.01554026   8.61514153]\n",
      " [  9.78032386   8.40010809   9.94351101   9.65937436]\n",
      " [  9.45314501   8.08916774  10.04380263   9.30070086]\n",
      " [  7.22034399   6.37477846   4.83319403   7.33691257]\n",
      " [  9.85436114   8.46429062  10.01019938   9.73320075]\n",
      " [  9.82717382   8.44403782   9.93775491   9.71002773]\n",
      " [  8.71021841   7.5385702    8.02316724   8.67083582]\n",
      " [  9.40118039   8.66311009   1.04452077   9.9838251 ]\n",
      " [  7.56581098   6.35218267   9.8026144    7.29898356]\n",
      " [  7.8143393    6.56841529  10.01512505   7.54773567]]\n"
     ]
    },
    {
     "name": "stderr",
     "output_type": "stream",
     "text": [
      "/opt/conda/lib/python3.6/site-packages/numexpr/cpuinfo.py:42: UserWarning: [Errno 12] Cannot allocate memory\n",
      "  warnings.warn(str(e), UserWarning, stacklevel=stacklevel)\n"
     ]
    },
    {
     "name": "stdout",
     "output_type": "stream",
     "text": [
      "85.3379654814\n"
     ]
    }
   ],
   "source": [
    "# Compute the dot product\n",
    "pred_ratings = np.dot(np.dot(u_2, s_2), vt_2)\n",
    "print(pred_ratings)\n",
    "# Compute the squared error for each predicted vs. actual rating\n",
    "sum_square_errs = np.sum(np.sum((user_movie_subset - pred_ratings)**2))\n",
    "print(sum_square_errs)"
   ]
  },
  {
   "cell_type": "code",
   "execution_count": 35,
   "metadata": {},
   "outputs": [
    {
     "name": "stdout",
     "output_type": "stream",
     "text": [
      "That looks right!  Nice job!\n"
     ]
    }
   ],
   "source": [
    "# Check against the solution\n",
    "assert np.round(sum_square_errs, 2) == 85.34, \"Oops!  That doesn't look quite right.  You should return a single number for the whole matrix.\"\n",
    "print(\"That looks right!  Nice job!\")"
   ]
  },
  {
   "cell_type": "markdown",
   "metadata": {},
   "source": [
    "At this point, you may be thinking . . . why would we want to choose a k that doesn't just give us back the full user-movie matrix with all the original ratings.  This is a good question.  One reason might be for computational reasons - sure, you may want to reduce the dimensionality of the data you are keeping, but really this isn't the main reason we would want to perform reduce k to lesser than the minimum of the number of movies or users.\n",
    "\n",
    "Let's take a step back for a second.  In this example we just went through, your matrix was very clean.  That is, for every user-movie combination, we had a rating.  **There were no missing values.** But what we know from the previous lesson is that the user-movie matrix is full of missing values.  \n",
    "\n",
    "A matrix similar to the one we just performed SVD on:\n",
    "\n",
    "<img src=\"imgs/nice_ex.png\" width=\"400\" height=\"400\">\n",
    "\n",
    "The real world:\n",
    "\n",
    "<img src=\"imgs/real_ex.png\" width=\"400\" height=\"400\">\n",
    "\n",
    "\n",
    "Therefore, if we keep all k latent features it is likely that latent features with smaller values in the sigma matrix will explain variability that is probably due to noise and not signal. Furthermore, if we use these \"noisey\" latent features to assist in re-constructing the original user-movie matrix it will potentially (and likely) lead to worse ratings than if we only have latent features associated with signal.   \n",
    "\n",
    "`9.` Let's try introducing just a little of the real world into this example by performing SVD on a matrix with missing values.  Below I have added a new user to our matrix who hasn't rated all four of our movies.  Try performing SVD on the new matrix.  What happens?"
   ]
  },
  {
   "cell_type": "code",
   "execution_count": 37,
   "metadata": {},
   "outputs": [
    {
     "ename": "LinAlgError",
     "evalue": "SVD did not converge",
     "output_type": "error",
     "traceback": [
      "\u001b[0;31m---------------------------------------------------------------------------\u001b[0m",
      "\u001b[0;31mLinAlgError\u001b[0m                               Traceback (most recent call last)",
      "\u001b[0;32m<ipython-input-37-46350a27905b>\u001b[0m in \u001b[0;36m<module>\u001b[0;34m()\u001b[0m\n\u001b[1;32m      3\u001b[0m \u001b[0;34m\u001b[0m\u001b[0m\n\u001b[1;32m      4\u001b[0m \u001b[0;31m# Try svd with this new matrix\u001b[0m\u001b[0;34m\u001b[0m\u001b[0;34m\u001b[0m\u001b[0m\n\u001b[0;32m----> 5\u001b[0;31m \u001b[0mu\u001b[0m\u001b[0;34m,\u001b[0m \u001b[0ms\u001b[0m\u001b[0;34m,\u001b[0m \u001b[0mvt\u001b[0m \u001b[0;34m=\u001b[0m \u001b[0mnp\u001b[0m\u001b[0;34m.\u001b[0m\u001b[0mlinalg\u001b[0m\u001b[0;34m.\u001b[0m\u001b[0msvd\u001b[0m\u001b[0;34m(\u001b[0m\u001b[0muser_movie_subset\u001b[0m\u001b[0;34m,\u001b[0m \u001b[0mfull_matrices\u001b[0m\u001b[0;34m=\u001b[0m\u001b[0;32mTrue\u001b[0m\u001b[0;34m)\u001b[0m\u001b[0;34m\u001b[0m\u001b[0m\n\u001b[0m",
      "\u001b[0;32m/opt/conda/lib/python3.6/site-packages/numpy/linalg/linalg.py\u001b[0m in \u001b[0;36msvd\u001b[0;34m(a, full_matrices, compute_uv)\u001b[0m\n\u001b[1;32m   1402\u001b[0m \u001b[0;34m\u001b[0m\u001b[0m\n\u001b[1;32m   1403\u001b[0m         \u001b[0msignature\u001b[0m \u001b[0;34m=\u001b[0m \u001b[0;34m'D->DdD'\u001b[0m \u001b[0;32mif\u001b[0m \u001b[0misComplexType\u001b[0m\u001b[0;34m(\u001b[0m\u001b[0mt\u001b[0m\u001b[0;34m)\u001b[0m \u001b[0;32melse\u001b[0m \u001b[0;34m'd->ddd'\u001b[0m\u001b[0;34m\u001b[0m\u001b[0m\n\u001b[0;32m-> 1404\u001b[0;31m         \u001b[0mu\u001b[0m\u001b[0;34m,\u001b[0m \u001b[0ms\u001b[0m\u001b[0;34m,\u001b[0m \u001b[0mvt\u001b[0m \u001b[0;34m=\u001b[0m \u001b[0mgufunc\u001b[0m\u001b[0;34m(\u001b[0m\u001b[0ma\u001b[0m\u001b[0;34m,\u001b[0m \u001b[0msignature\u001b[0m\u001b[0;34m=\u001b[0m\u001b[0msignature\u001b[0m\u001b[0;34m,\u001b[0m \u001b[0mextobj\u001b[0m\u001b[0;34m=\u001b[0m\u001b[0mextobj\u001b[0m\u001b[0;34m)\u001b[0m\u001b[0;34m\u001b[0m\u001b[0m\n\u001b[0m\u001b[1;32m   1405\u001b[0m         \u001b[0mu\u001b[0m \u001b[0;34m=\u001b[0m \u001b[0mu\u001b[0m\u001b[0;34m.\u001b[0m\u001b[0mastype\u001b[0m\u001b[0;34m(\u001b[0m\u001b[0mresult_t\u001b[0m\u001b[0;34m,\u001b[0m \u001b[0mcopy\u001b[0m\u001b[0;34m=\u001b[0m\u001b[0;32mFalse\u001b[0m\u001b[0;34m)\u001b[0m\u001b[0;34m\u001b[0m\u001b[0m\n\u001b[1;32m   1406\u001b[0m         \u001b[0ms\u001b[0m \u001b[0;34m=\u001b[0m \u001b[0ms\u001b[0m\u001b[0;34m.\u001b[0m\u001b[0mastype\u001b[0m\u001b[0;34m(\u001b[0m\u001b[0m_realType\u001b[0m\u001b[0;34m(\u001b[0m\u001b[0mresult_t\u001b[0m\u001b[0;34m)\u001b[0m\u001b[0;34m,\u001b[0m \u001b[0mcopy\u001b[0m\u001b[0;34m=\u001b[0m\u001b[0;32mFalse\u001b[0m\u001b[0;34m)\u001b[0m\u001b[0;34m\u001b[0m\u001b[0m\n",
      "\u001b[0;32m/opt/conda/lib/python3.6/site-packages/numpy/linalg/linalg.py\u001b[0m in \u001b[0;36m_raise_linalgerror_svd_nonconvergence\u001b[0;34m(err, flag)\u001b[0m\n\u001b[1;32m     97\u001b[0m \u001b[0;34m\u001b[0m\u001b[0m\n\u001b[1;32m     98\u001b[0m \u001b[0;32mdef\u001b[0m \u001b[0m_raise_linalgerror_svd_nonconvergence\u001b[0m\u001b[0;34m(\u001b[0m\u001b[0merr\u001b[0m\u001b[0;34m,\u001b[0m \u001b[0mflag\u001b[0m\u001b[0;34m)\u001b[0m\u001b[0;34m:\u001b[0m\u001b[0;34m\u001b[0m\u001b[0m\n\u001b[0;32m---> 99\u001b[0;31m     \u001b[0;32mraise\u001b[0m \u001b[0mLinAlgError\u001b[0m\u001b[0;34m(\u001b[0m\u001b[0;34m\"SVD did not converge\"\u001b[0m\u001b[0;34m)\u001b[0m\u001b[0;34m\u001b[0m\u001b[0m\n\u001b[0m\u001b[1;32m    100\u001b[0m \u001b[0;34m\u001b[0m\u001b[0m\n\u001b[1;32m    101\u001b[0m \u001b[0;32mdef\u001b[0m \u001b[0mget_linalg_error_extobj\u001b[0m\u001b[0;34m(\u001b[0m\u001b[0mcallback\u001b[0m\u001b[0;34m)\u001b[0m\u001b[0;34m:\u001b[0m\u001b[0;34m\u001b[0m\u001b[0m\n",
      "\u001b[0;31mLinAlgError\u001b[0m: SVD did not converge"
     ]
    }
   ],
   "source": [
    "# This line adds one nan value as the very first entry in our matrix\n",
    "user_movie_subset.iloc[0, 0] = np.nan\n",
    "\n",
    "# Try svd with this new matrix\n",
    "u, s, vt = np.linalg.svd(user_movie_subset, full_matrices=True)"
   ]
  },
  {
   "cell_type": "markdown",
   "metadata": {},
   "source": [
    "\n",
    "**Write your response here.** "
   ]
  },
  {
   "cell_type": "code",
   "execution_count": null,
   "metadata": {
    "collapsed": true
   },
   "outputs": [],
   "source": []
  }
 ],
 "metadata": {
  "kernelspec": {
   "display_name": "Python 3",
   "language": "python",
   "name": "python3"
  },
  "language_info": {
   "codemirror_mode": {
    "name": "ipython",
    "version": 3
   },
   "file_extension": ".py",
   "mimetype": "text/x-python",
   "name": "python",
   "nbconvert_exporter": "python",
   "pygments_lexer": "ipython3",
   "version": "3.7.4"
  }
 },
 "nbformat": 4,
 "nbformat_minor": 2
}
